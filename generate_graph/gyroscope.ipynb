{
 "cells": [
  {
   "cell_type": "code",
   "execution_count": null,
   "metadata": {},
   "outputs": [],
   "source": [
    "import pandas as pd\n",
    "import matplotlib.pyplot as plt\n",
    "import japanize_matplotlib\n"
   ]
  },
  {
   "cell_type": "code",
   "execution_count": null,
   "metadata": {},
   "outputs": [],
   "source": [
    "# CSVファイルを読み込む\n",
    "file_path = \"./log/\"\n",
    "\n",
    "df_gyro = pd.read_csv(\n",
    "    f\"{file_path}Gyroscope.csv\",\n",
    "    header=0,\n",
    "    names=(\"time\", \"x\", \"y\", \"z\")\n",
    ")\n"
   ]
  },
  {
   "cell_type": "code",
   "execution_count": null,
   "metadata": {},
   "outputs": [],
   "source": [
    "## 移動平均\n",
    "df_gyro['xlow'] = df_gyro['x'].rolling(window=window).mean()\n",
    "df_gyro['ylow'] = df_gyro['y'].rolling(window=window).mean()\n",
    "df_gyro['zlow'] = df_gyro['z'].rolling(window=window).mean()\n",
    "\n",
    "## メディアンフィルター\n",
    "df_gyro['xmf'] = medfilt(df_gyro['x'], window + 1)\n",
    "df_gyro['ymf'] = medfilt(df_gyro['y'], window + 1)\n",
    "df_gyro['zmf'] = medfilt(df_gyro['z'], window + 1)\n"
   ]
  },
  {
   "cell_type": "code",
   "execution_count": null,
   "metadata": {},
   "outputs": [],
   "source": [
    "# グラフを描画する\n",
    "def plot(\n",
    "    df,\n",
    "    heads=[],\n",
    "    title=None,\n",
    "    xlabel=None,\n",
    "    ylabel=None,\n",
    "    figsize=(10, 3),\n",
    "    xlim=(0, 0),\n",
    "    ylim=(0, 0),\n",
    "    grid=True,\n",
    "):\n",
    "    fig = plt.figure(figsize=figsize)\n",
    "\n",
    "    if title:\n",
    "        plt.title(title)\n",
    "    if xlabel:\n",
    "        plt.xlabel(xlabel)\n",
    "    if ylabel:\n",
    "        plt.ylabel(ylabel)\n",
    "    if grid:\n",
    "        plt.grid(color='k', linestyle='dotted', linewidth=1, alpha=0.5)\n",
    "\n",
    "    if xlim[0] < xlim[1]:\n",
    "        plt.xlim(xlim[0], xlim[1])\n",
    "    if ylim[0] < ylim[1]:\n",
    "        plt.ylim(ylim[0], ylim[1])\n",
    "\n",
    "    for head in heads:\n",
    "        plt.plot(df[head[0]], df[head[1]], label=head[1])\n",
    "\n",
    "    plt.legend()\n",
    "\n",
    "    plt.show()\n"
   ]
  },
  {
   "cell_type": "code",
   "execution_count": null,
   "metadata": {},
   "outputs": [],
   "source": [
    "# 角速度\n",
    "plot(\n",
    "    df_gyro,\n",
    "    [(\"time\", \"x\"), (\"time\", \"y\"), (\"time\", \"z\")],\n",
    "    title=\"角速度\",\n",
    "    xlabel=\"時間[s]\",\n",
    "    ylabel=\"角速度[deg/s]\",\n",
    "    figsize=(10, 3),\n",
    "    ylim=(-100, 100),\n",
    "    grid=True\n",
    ")"
   ]
  },
  {
   "cell_type": "code",
   "execution_count": null,
   "metadata": {},
   "outputs": [],
   "source": [
    "# 角度\n",
    "plot(\n",
    "    df_gyro,\n",
    "    [(\"time\", \"i_xlow\"), (\"time\", \"i_ylow\"), (\"time\", \"i_zlow\")],\n",
    "    title=\"角度\",\n",
    "    xlabel=\"時間[s]\",\n",
    "    ylabel=\"角度[rad]\",\n",
    "    figsize=(10, 3),\n",
    "    ylim=(-100, 100),\n",
    "    grid=True\n",
    ")"
   ]
  }
 ],
 "metadata": {
  "kernelspec": {
   "display_name": "Python 3",
   "language": "python",
   "name": "python3"
  },
  "language_info": {
   "codemirror_mode": {
    "name": "ipython",
    "version": 3
   },
   "file_extension": ".py",
   "mimetype": "text/x-python",
   "name": "python",
   "nbconvert_exporter": "python",
   "pygments_lexer": "ipython3",
   "version": "3.10.12"
  },
  "orig_nbformat": 4
 },
 "nbformat": 4,
 "nbformat_minor": 2
}
