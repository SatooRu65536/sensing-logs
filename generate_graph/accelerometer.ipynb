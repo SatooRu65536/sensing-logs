{
 "cells": [
  {
   "cell_type": "code",
   "execution_count": null,
   "metadata": {},
   "outputs": [],
   "source": [
    "import pandas as pd\n",
    "import matplotlib.pyplot as plt\n",
    "import numpy as np\n",
    "import japanize_matplotlib\n"
   ]
  },
  {
   "cell_type": "code",
   "execution_count": null,
   "metadata": {},
   "outputs": [],
   "source": [
    "# CSVファイルを読み込む\n",
    "file_path = \"./log/\"\n",
    "\n",
    "df_acc = pd.read_csv(\n",
    "    f\"{file_path}Accelerometer.csv\",\n",
    "    header=0,\n",
    "    names=(\"time\", \"x\", \"y\", \"z\")\n",
    ")\n"
   ]
  },
  {
   "cell_type": "code",
   "execution_count": null,
   "metadata": {},
   "outputs": [],
   "source": [
    "# 加速度のノルムを計算する\n",
    "df_acc['norm'] = np.linalg.norm(df_acc[['x', 'y', 'z']], axis=1)\n"
   ]
  },
  {
   "cell_type": "code",
   "execution_count": null,
   "metadata": {},
   "outputs": [],
   "source": [
    "# グラフを描画する\n",
    "def plot(\n",
    "    df,\n",
    "    heads=[],\n",
    "    title=None,\n",
    "    xlabel=None,\n",
    "    ylabel=None,\n",
    "    figsize=(10, 3),\n",
    "    xlim=(0, 0),\n",
    "    ylim=(0, 0),\n",
    "    grid=True,\n",
    "):\n",
    "    fig = plt.figure(figsize=figsize)\n",
    "\n",
    "    if title:\n",
    "        plt.title(title)\n",
    "    if xlabel:\n",
    "        plt.xlabel(xlabel)\n",
    "    if ylabel:\n",
    "        plt.ylabel(ylabel)\n",
    "    if grid:\n",
    "        plt.grid(color='k', linestyle='dotted', linewidth=1, alpha=0.5)\n",
    "\n",
    "    if xlim[0] < xlim[1]:\n",
    "        plt.xlim(xlim[0], xlim[1])\n",
    "    if ylim[0] < ylim[1]:\n",
    "        plt.ylim(ylim[0], ylim[1])\n",
    "\n",
    "    for head in heads:\n",
    "        plt.plot(df[head[0]], df[head[1]], label=head[1])\n",
    "\n",
    "    plt.legend()\n",
    "\n",
    "    plt.show()\n"
   ]
  },
  {
   "cell_type": "code",
   "execution_count": null,
   "metadata": {},
   "outputs": [],
   "source": [
    "plot(\n",
    "    df_acc,\n",
    "    [(\"time\", \"x\")],\n",
    "    title=\"加速度 x\",\n",
    "    xlabel=\"時間[s]\",\n",
    "    ylabel=\"加速度[m/s^2]\",\n",
    "    figsize=(10, 3),\n",
    "    grid=True\n",
    ")\n",
    "\n",
    "plot(\n",
    "    df_acc,\n",
    "    [(\"time\", \"y\")],\n",
    "    title=\"加速度 y\",\n",
    "    xlabel=\"時間[s]\",\n",
    "    ylabel=\"加速度[m/s^2]\",\n",
    "    figsize=(10, 3),\n",
    "    grid=True\n",
    ")\n",
    "\n",
    "plot(\n",
    "    df_acc,\n",
    "    [(\"time\", \"z\")],\n",
    "    title=\"加速度 z\",\n",
    "    xlabel=\"時間[s]\",\n",
    "    ylabel=\"加速度[m/s^2]\",\n",
    "    figsize=(10, 3),\n",
    "    grid=True\n",
    ")"
   ]
  }
 ],
 "metadata": {
  "kernelspec": {
   "display_name": "Python 3",
   "language": "python",
   "name": "python3"
  },
  "language_info": {
   "codemirror_mode": {
    "name": "ipython",
    "version": 3
   },
   "file_extension": ".py",
   "mimetype": "text/x-python",
   "name": "python",
   "nbconvert_exporter": "python",
   "pygments_lexer": "ipython3",
   "version": "3.10.12"
  },
  "orig_nbformat": 4
 },
 "nbformat": 4,
 "nbformat_minor": 2
}
